{
 "cells": [
  {
   "cell_type": "markdown",
   "metadata": {},
   "source": [
    "# FACE MODEL\n",
    "### Options\n",
    "- create face model\n",
    "- load face model\n",
    "\n",
    "### Content:\n",
    "face model:\n",
    "- gather face features + Iris position + screen positions"
   ]
  },
  {
   "cell_type": "markdown",
   "metadata": {},
   "source": [
    "---"
   ]
  },
  {
   "cell_type": "markdown",
   "metadata": {},
   "source": [
    "# AI\n",
    "\n",
    "### Input\n",
    "- A Face Model\n",
    "- A live feed of the face features\n",
    "\n",
    "\n",
    "### Output\n",
    "- Screen Position"
   ]
  },
  {
   "cell_type": "markdown",
   "metadata": {},
   "source": [
    "---"
   ]
  },
  {
   "cell_type": "markdown",
   "metadata": {},
   "source": [
    "# Screen\n",
    "\n",
    "Face features and network output are trained / calculated on fullscreen regardless\n",
    "\n",
    "### Options\n",
    "- Fullscreen\n",
    "- - Option AlwaysOnTop: might be possible to achieve using pygame or win32api\n",
    "- Cropped\n",
    "- - Crop dimensions\n",
    "- - Window position on screen / distance to edge of the monitor\n",
    "- - Predict the model coordinates, and crop ( <=, >= ) on the window positions.\n",
    "- - - Only show the marker if the position is within the window positions"
   ]
  }
 ],
 "metadata": {
  "language_info": {
   "name": "python"
  }
 },
 "nbformat": 4,
 "nbformat_minor": 2
}
